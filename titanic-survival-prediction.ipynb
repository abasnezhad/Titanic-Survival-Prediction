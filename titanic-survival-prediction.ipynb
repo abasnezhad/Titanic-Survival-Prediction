{
 "cells": [
  {
   "cell_type": "code",
   "execution_count": 1,
   "id": "71d5321d",
   "metadata": {
    "_cell_guid": "b1076dfc-b9ad-4769-8c92-a6c4dae69d19",
    "_uuid": "8f2839f25d086af736a60e9eeb907d3b93b6e0e5",
    "execution": {
     "iopub.execute_input": "2025-01-08T19:33:07.744156Z",
     "iopub.status.busy": "2025-01-08T19:33:07.743702Z",
     "iopub.status.idle": "2025-01-08T19:33:08.163857Z",
     "shell.execute_reply": "2025-01-08T19:33:08.162108Z"
    },
    "papermill": {
     "duration": 0.429308,
     "end_time": "2025-01-08T19:33:08.166265",
     "exception": false,
     "start_time": "2025-01-08T19:33:07.736957",
     "status": "completed"
    },
    "tags": []
   },
   "outputs": [
    {
     "name": "stdout",
     "output_type": "stream",
     "text": [
      "/kaggle/input/titanic/train.csv\n",
      "/kaggle/input/titanic/test.csv\n"
     ]
    }
   ],
   "source": [
    "# This Python 3 environment comes with many helpful analytics libraries installed\n",
    "# It is defined by the kaggle/python Docker image: https://github.com/kaggle/docker-python\n",
    "# For example, here's several helpful packages to load\n",
    "\n",
    "import numpy as np # linear algebra\n",
    "import pandas as pd # data processing, CSV file I/O (e.g. pd.read_csv)\n",
    "\n",
    "# Input data files are available in the read-only \"../input/\" directory\n",
    "# For example, running this (by clicking run or pressing Shift+Enter) will list all files under the input directory\n",
    "\n",
    "import os\n",
    "for dirname, _, filenames in os.walk('/kaggle/input'):\n",
    "    for filename in filenames:\n",
    "        print(os.path.join(dirname, filename))\n",
    "\n",
    "# You can write up to 20GB to the current directory (/kaggle/working/) that gets preserved as output when you create a version using \"Save & Run All\" \n",
    "# You can also write temporary files to /kaggle/temp/, but they won't be saved outside of the current session"
   ]
  },
  {
   "cell_type": "code",
   "execution_count": 2,
   "id": "ea703bca",
   "metadata": {
    "execution": {
     "iopub.execute_input": "2025-01-08T19:33:08.177238Z",
     "iopub.status.busy": "2025-01-08T19:33:08.176688Z",
     "iopub.status.idle": "2025-01-08T19:33:10.360740Z",
     "shell.execute_reply": "2025-01-08T19:33:10.359669Z"
    },
    "papermill": {
     "duration": 2.191954,
     "end_time": "2025-01-08T19:33:10.363111",
     "exception": false,
     "start_time": "2025-01-08T19:33:08.171157",
     "status": "completed"
    },
    "tags": []
   },
   "outputs": [],
   "source": [
    "# Import necessary libraries\n",
    "import pandas as pd\n",
    "from sklearn.model_selection import train_test_split\n",
    "from sklearn.ensemble import RandomForestClassifier, VotingClassifier\n",
    "from sklearn.linear_model import LogisticRegression\n",
    "from sklearn.svm import SVC\n",
    "from sklearn.metrics import accuracy_score\n",
    "from sklearn.base import BaseEstimator, TransformerMixin\n",
    "from sklearn.preprocessing import StandardScaler, OneHotEncoder\n",
    "from sklearn.pipeline import Pipeline\n",
    "from sklearn.compose import ColumnTransformer\n",
    "from sklearn.model_selection import GridSearchCV\n",
    "from sklearn.impute import SimpleImputer\n",
    "import xgboost as xgb\n",
    "from sklearn.preprocessing import LabelEncoder"
   ]
  },
  {
   "cell_type": "code",
   "execution_count": 3,
   "id": "546b60e4",
   "metadata": {
    "execution": {
     "iopub.execute_input": "2025-01-08T19:33:10.374301Z",
     "iopub.status.busy": "2025-01-08T19:33:10.373670Z",
     "iopub.status.idle": "2025-01-08T19:33:10.408839Z",
     "shell.execute_reply": "2025-01-08T19:33:10.407522Z"
    },
    "papermill": {
     "duration": 0.043528,
     "end_time": "2025-01-08T19:33:10.411345",
     "exception": false,
     "start_time": "2025-01-08T19:33:10.367817",
     "status": "completed"
    },
    "tags": []
   },
   "outputs": [],
   "source": [
    "train = pd.read_csv(\"/kaggle/input/titanic/train.csv\")\n",
    "test = pd.read_csv(\"/kaggle/input/titanic/test.csv\")"
   ]
  },
  {
   "cell_type": "code",
   "execution_count": 4,
   "id": "61a84213",
   "metadata": {
    "execution": {
     "iopub.execute_input": "2025-01-08T19:33:10.421894Z",
     "iopub.status.busy": "2025-01-08T19:33:10.421432Z",
     "iopub.status.idle": "2025-01-08T19:33:10.447147Z",
     "shell.execute_reply": "2025-01-08T19:33:10.445709Z"
    },
    "papermill": {
     "duration": 0.033325,
     "end_time": "2025-01-08T19:33:10.449280",
     "exception": false,
     "start_time": "2025-01-08T19:33:10.415955",
     "status": "completed"
    },
    "tags": []
   },
   "outputs": [
    {
     "data": {
      "text/html": [
       "<div>\n",
       "<style scoped>\n",
       "    .dataframe tbody tr th:only-of-type {\n",
       "        vertical-align: middle;\n",
       "    }\n",
       "\n",
       "    .dataframe tbody tr th {\n",
       "        vertical-align: top;\n",
       "    }\n",
       "\n",
       "    .dataframe thead th {\n",
       "        text-align: right;\n",
       "    }\n",
       "</style>\n",
       "<table border=\"1\" class=\"dataframe\">\n",
       "  <thead>\n",
       "    <tr style=\"text-align: right;\">\n",
       "      <th></th>\n",
       "      <th>PassengerId</th>\n",
       "      <th>Survived</th>\n",
       "      <th>Pclass</th>\n",
       "      <th>Name</th>\n",
       "      <th>Sex</th>\n",
       "      <th>Age</th>\n",
       "      <th>SibSp</th>\n",
       "      <th>Parch</th>\n",
       "      <th>Ticket</th>\n",
       "      <th>Fare</th>\n",
       "      <th>Cabin</th>\n",
       "      <th>Embarked</th>\n",
       "    </tr>\n",
       "  </thead>\n",
       "  <tbody>\n",
       "    <tr>\n",
       "      <th>0</th>\n",
       "      <td>1</td>\n",
       "      <td>0</td>\n",
       "      <td>3</td>\n",
       "      <td>Braund, Mr. Owen Harris</td>\n",
       "      <td>male</td>\n",
       "      <td>22.0</td>\n",
       "      <td>1</td>\n",
       "      <td>0</td>\n",
       "      <td>A/5 21171</td>\n",
       "      <td>7.2500</td>\n",
       "      <td>NaN</td>\n",
       "      <td>S</td>\n",
       "    </tr>\n",
       "    <tr>\n",
       "      <th>1</th>\n",
       "      <td>2</td>\n",
       "      <td>1</td>\n",
       "      <td>1</td>\n",
       "      <td>Cumings, Mrs. John Bradley (Florence Briggs Th...</td>\n",
       "      <td>female</td>\n",
       "      <td>38.0</td>\n",
       "      <td>1</td>\n",
       "      <td>0</td>\n",
       "      <td>PC 17599</td>\n",
       "      <td>71.2833</td>\n",
       "      <td>C85</td>\n",
       "      <td>C</td>\n",
       "    </tr>\n",
       "    <tr>\n",
       "      <th>2</th>\n",
       "      <td>3</td>\n",
       "      <td>1</td>\n",
       "      <td>3</td>\n",
       "      <td>Heikkinen, Miss. Laina</td>\n",
       "      <td>female</td>\n",
       "      <td>26.0</td>\n",
       "      <td>0</td>\n",
       "      <td>0</td>\n",
       "      <td>STON/O2. 3101282</td>\n",
       "      <td>7.9250</td>\n",
       "      <td>NaN</td>\n",
       "      <td>S</td>\n",
       "    </tr>\n",
       "  </tbody>\n",
       "</table>\n",
       "</div>"
      ],
      "text/plain": [
       "   PassengerId  Survived  Pclass  \\\n",
       "0            1         0       3   \n",
       "1            2         1       1   \n",
       "2            3         1       3   \n",
       "\n",
       "                                                Name     Sex   Age  SibSp  \\\n",
       "0                            Braund, Mr. Owen Harris    male  22.0      1   \n",
       "1  Cumings, Mrs. John Bradley (Florence Briggs Th...  female  38.0      1   \n",
       "2                             Heikkinen, Miss. Laina  female  26.0      0   \n",
       "\n",
       "   Parch            Ticket     Fare Cabin Embarked  \n",
       "0      0         A/5 21171   7.2500   NaN        S  \n",
       "1      0          PC 17599  71.2833   C85        C  \n",
       "2      0  STON/O2. 3101282   7.9250   NaN        S  "
      ]
     },
     "execution_count": 4,
     "metadata": {},
     "output_type": "execute_result"
    }
   ],
   "source": [
    "train.head(3)"
   ]
  },
  {
   "cell_type": "code",
   "execution_count": 5,
   "id": "768287cc",
   "metadata": {
    "execution": {
     "iopub.execute_input": "2025-01-08T19:33:10.461573Z",
     "iopub.status.busy": "2025-01-08T19:33:10.460892Z",
     "iopub.status.idle": "2025-01-08T19:33:10.479072Z",
     "shell.execute_reply": "2025-01-08T19:33:10.477245Z"
    },
    "papermill": {
     "duration": 0.026333,
     "end_time": "2025-01-08T19:33:10.481318",
     "exception": false,
     "start_time": "2025-01-08T19:33:10.454985",
     "status": "completed"
    },
    "tags": []
   },
   "outputs": [],
   "source": [
    "# Separate features and target\n",
    "X_train = train.drop('Survived', axis=1)\n",
    "y_train = train['Survived']"
   ]
  },
  {
   "cell_type": "markdown",
   "id": "44e19cc0",
   "metadata": {
    "papermill": {
     "duration": 0.004085,
     "end_time": "2025-01-08T19:33:10.490130",
     "exception": false,
     "start_time": "2025-01-08T19:33:10.486045",
     "status": "completed"
    },
    "tags": []
   },
   "source": [
    "# data cleaning"
   ]
  },
  {
   "cell_type": "code",
   "execution_count": 6,
   "id": "a1c31bc3",
   "metadata": {
    "execution": {
     "iopub.execute_input": "2025-01-08T19:33:10.500533Z",
     "iopub.status.busy": "2025-01-08T19:33:10.500110Z",
     "iopub.status.idle": "2025-01-08T19:33:10.511404Z",
     "shell.execute_reply": "2025-01-08T19:33:10.510264Z"
    },
    "papermill": {
     "duration": 0.018417,
     "end_time": "2025-01-08T19:33:10.513055",
     "exception": false,
     "start_time": "2025-01-08T19:33:10.494638",
     "status": "completed"
    },
    "tags": []
   },
   "outputs": [
    {
     "data": {
      "text/plain": [
       "PassengerId      0\n",
       "Survived         0\n",
       "Pclass           0\n",
       "Name             0\n",
       "Sex              0\n",
       "Age            177\n",
       "SibSp            0\n",
       "Parch            0\n",
       "Ticket           0\n",
       "Fare             0\n",
       "Cabin          687\n",
       "Embarked         2\n",
       "dtype: int64"
      ]
     },
     "execution_count": 6,
     "metadata": {},
     "output_type": "execute_result"
    }
   ],
   "source": [
    "# handeling missing values\n",
    "train.isnull().sum()"
   ]
  },
  {
   "cell_type": "code",
   "execution_count": 7,
   "id": "43cc2dd3",
   "metadata": {
    "execution": {
     "iopub.execute_input": "2025-01-08T19:33:10.523406Z",
     "iopub.status.busy": "2025-01-08T19:33:10.522972Z",
     "iopub.status.idle": "2025-01-08T19:33:10.531869Z",
     "shell.execute_reply": "2025-01-08T19:33:10.530492Z"
    },
    "papermill": {
     "duration": 0.016509,
     "end_time": "2025-01-08T19:33:10.533878",
     "exception": false,
     "start_time": "2025-01-08T19:33:10.517369",
     "status": "completed"
    },
    "tags": []
   },
   "outputs": [],
   "source": [
    "class Preprocessor(BaseEstimator, TransformerMixin):\n",
    "    def __init__(self):\n",
    "        pass\n",
    "\n",
    "    def fit(self, X, y=None):\n",
    "        return self\n",
    "\n",
    "    def transform(self, X):\n",
    "\n",
    "\n",
    "        # Remove Passengerid\n",
    "\n",
    "        X=X.drop(\"PassengerId\",axis=1)\n",
    "\n",
    "        # 1. Handle missing values\n",
    "        imputer = SimpleImputer(strategy='median')  # Replace with median for numerical columns\n",
    "        X[['Age', 'Fare'  ]] = imputer.fit_transform(X[['Age', 'Fare']])\n",
    "        X['Embarked'].fillna(X['Embarked'].mode()[0], inplace=True)\n",
    "        X['Cabin'] = X['Cabin'].str[0].fillna('U') \n",
    "        \n",
    "        # 2. Create new features\n",
    "        X['FamilySize'] = X['SibSp'] + X['Parch'] + 1\n",
    "        X['IsAlone'] = 0\n",
    "        X.loc[X['FamilySize'] == 1, 'IsAlone'] = 1\n",
    "\n",
    "         # 3. Interaction between Sex and Pclass (new feature)\n",
    "        X['Sex_Pclass'] = X['Sex'] * X['Pclass']\n",
    "\n",
    "        # 4. Title extraction\n",
    "        X['Title'] = X['Name'].str.extract(' ([A-Za-z]+)\\.', expand=False)\n",
    "        X['Title'] = X['Title'].replace(['Ms', 'Mlle', 'Mme', 'Lady', 'Countess', 'Dona'], 'Miss')\n",
    "        X['Title'] = X['Title'].replace(['Capt', 'Don', 'Sir', 'Dr', 'Rev', 'Major', 'Col', 'Jonkheer', 'Master'], 'Mr') \n",
    "       \n",
    "        # 5. Drop the Name column since we already extracted Title\n",
    "        X = X.drop('Name', axis=1)\n",
    "\n",
    "        return X"
   ]
  },
  {
   "cell_type": "code",
   "execution_count": 8,
   "id": "48ddf1c6",
   "metadata": {
    "execution": {
     "iopub.execute_input": "2025-01-08T19:33:10.544169Z",
     "iopub.status.busy": "2025-01-08T19:33:10.543706Z",
     "iopub.status.idle": "2025-01-08T19:33:10.550188Z",
     "shell.execute_reply": "2025-01-08T19:33:10.548943Z"
    },
    "papermill": {
     "duration": 0.013772,
     "end_time": "2025-01-08T19:33:10.552120",
     "exception": false,
     "start_time": "2025-01-08T19:33:10.538348",
     "status": "completed"
    },
    "tags": []
   },
   "outputs": [],
   "source": [
    "# Define preprocessing pipelines\n",
    "numerical_transformer = Pipeline(steps=[\n",
    "    ('scaler', StandardScaler())\n",
    "])\n",
    "\n",
    "categorical_transformer = Pipeline(steps=[\n",
    "    ('onehot', OneHotEncoder(handle_unknown='ignore'))\n",
    "])\n",
    "\n",
    "preprocessor = ColumnTransformer(\n",
    "    transformers=[\n",
    "        ('num', numerical_transformer, ['Age', 'SibSp', 'Parch', 'Fare', 'FamilySize', 'IsAlone']),\n",
    "        ('cat', categorical_transformer, ['Sex', 'Embarked', 'Title', 'Pclass', 'Sex_Pclass'])\n",
    "    ])\n",
    "\n",
    "# Create main pipeline\n",
    "pipeline = Pipeline(steps=[\n",
    "    ('custom_preprocessor', Preprocessor()), \n",
    "    ('feature_engineering', preprocessor)\n",
    "])"
   ]
  },
  {
   "cell_type": "code",
   "execution_count": 9,
   "id": "159e70fa",
   "metadata": {
    "execution": {
     "iopub.execute_input": "2025-01-08T19:33:10.562416Z",
     "iopub.status.busy": "2025-01-08T19:33:10.561945Z",
     "iopub.status.idle": "2025-01-08T19:33:10.619428Z",
     "shell.execute_reply": "2025-01-08T19:33:10.618106Z"
    },
    "papermill": {
     "duration": 0.064904,
     "end_time": "2025-01-08T19:33:10.621400",
     "exception": false,
     "start_time": "2025-01-08T19:33:10.556496",
     "status": "completed"
    },
    "tags": []
   },
   "outputs": [],
   "source": [
    "# Transform data\n",
    "train_processed = pipeline.fit_transform(X_train)\n",
    "test_processed = pipeline.transform(test)"
   ]
  },
  {
   "cell_type": "code",
   "execution_count": 10,
   "id": "1a2bddf7",
   "metadata": {
    "execution": {
     "iopub.execute_input": "2025-01-08T19:33:10.631485Z",
     "iopub.status.busy": "2025-01-08T19:33:10.631075Z",
     "iopub.status.idle": "2025-01-08T19:33:10.639341Z",
     "shell.execute_reply": "2025-01-08T19:33:10.638178Z"
    },
    "papermill": {
     "duration": 0.015528,
     "end_time": "2025-01-08T19:33:10.641312",
     "exception": false,
     "start_time": "2025-01-08T19:33:10.625784",
     "status": "completed"
    },
    "tags": []
   },
   "outputs": [],
   "source": [
    "# Split data into training and validation sets\n",
    "X_train_prosessed, X_val, y_train, y_val = train_test_split(\n",
    "    train_processed, y_train, test_size=0.2, random_state=42\n",
    ")"
   ]
  },
  {
   "cell_type": "code",
   "execution_count": 11,
   "id": "970514c5",
   "metadata": {
    "execution": {
     "iopub.execute_input": "2025-01-08T19:33:10.651429Z",
     "iopub.status.busy": "2025-01-08T19:33:10.650959Z",
     "iopub.status.idle": "2025-01-08T19:33:10.656359Z",
     "shell.execute_reply": "2025-01-08T19:33:10.655171Z"
    },
    "papermill": {
     "duration": 0.012456,
     "end_time": "2025-01-08T19:33:10.658172",
     "exception": false,
     "start_time": "2025-01-08T19:33:10.645716",
     "status": "completed"
    },
    "tags": []
   },
   "outputs": [],
   "source": [
    "# Define individual classifiers\n",
    "rf_clf = RandomForestClassifier(n_estimators=100, random_state=42)\n",
    "lr_clf = LogisticRegression(max_iter=1000, random_state=42)\n",
    "svc_clf = SVC(probability=True, random_state=42) "
   ]
  },
  {
   "cell_type": "code",
   "execution_count": 12,
   "id": "7c991868",
   "metadata": {
    "execution": {
     "iopub.execute_input": "2025-01-08T19:33:10.669016Z",
     "iopub.status.busy": "2025-01-08T19:33:10.668599Z",
     "iopub.status.idle": "2025-01-08T19:33:11.079273Z",
     "shell.execute_reply": "2025-01-08T19:33:11.077800Z"
    },
    "papermill": {
     "duration": 0.418601,
     "end_time": "2025-01-08T19:33:11.081492",
     "exception": false,
     "start_time": "2025-01-08T19:33:10.662891",
     "status": "completed"
    },
    "tags": []
   },
   "outputs": [
    {
     "data": {
      "text/html": [
       "<style>#sk-container-id-1 {color: black;background-color: white;}#sk-container-id-1 pre{padding: 0;}#sk-container-id-1 div.sk-toggleable {background-color: white;}#sk-container-id-1 label.sk-toggleable__label {cursor: pointer;display: block;width: 100%;margin-bottom: 0;padding: 0.3em;box-sizing: border-box;text-align: center;}#sk-container-id-1 label.sk-toggleable__label-arrow:before {content: \"▸\";float: left;margin-right: 0.25em;color: #696969;}#sk-container-id-1 label.sk-toggleable__label-arrow:hover:before {color: black;}#sk-container-id-1 div.sk-estimator:hover label.sk-toggleable__label-arrow:before {color: black;}#sk-container-id-1 div.sk-toggleable__content {max-height: 0;max-width: 0;overflow: hidden;text-align: left;background-color: #f0f8ff;}#sk-container-id-1 div.sk-toggleable__content pre {margin: 0.2em;color: black;border-radius: 0.25em;background-color: #f0f8ff;}#sk-container-id-1 input.sk-toggleable__control:checked~div.sk-toggleable__content {max-height: 200px;max-width: 100%;overflow: auto;}#sk-container-id-1 input.sk-toggleable__control:checked~label.sk-toggleable__label-arrow:before {content: \"▾\";}#sk-container-id-1 div.sk-estimator input.sk-toggleable__control:checked~label.sk-toggleable__label {background-color: #d4ebff;}#sk-container-id-1 div.sk-label input.sk-toggleable__control:checked~label.sk-toggleable__label {background-color: #d4ebff;}#sk-container-id-1 input.sk-hidden--visually {border: 0;clip: rect(1px 1px 1px 1px);clip: rect(1px, 1px, 1px, 1px);height: 1px;margin: -1px;overflow: hidden;padding: 0;position: absolute;width: 1px;}#sk-container-id-1 div.sk-estimator {font-family: monospace;background-color: #f0f8ff;border: 1px dotted black;border-radius: 0.25em;box-sizing: border-box;margin-bottom: 0.5em;}#sk-container-id-1 div.sk-estimator:hover {background-color: #d4ebff;}#sk-container-id-1 div.sk-parallel-item::after {content: \"\";width: 100%;border-bottom: 1px solid gray;flex-grow: 1;}#sk-container-id-1 div.sk-label:hover label.sk-toggleable__label {background-color: #d4ebff;}#sk-container-id-1 div.sk-serial::before {content: \"\";position: absolute;border-left: 1px solid gray;box-sizing: border-box;top: 0;bottom: 0;left: 50%;z-index: 0;}#sk-container-id-1 div.sk-serial {display: flex;flex-direction: column;align-items: center;background-color: white;padding-right: 0.2em;padding-left: 0.2em;position: relative;}#sk-container-id-1 div.sk-item {position: relative;z-index: 1;}#sk-container-id-1 div.sk-parallel {display: flex;align-items: stretch;justify-content: center;background-color: white;position: relative;}#sk-container-id-1 div.sk-item::before, #sk-container-id-1 div.sk-parallel-item::before {content: \"\";position: absolute;border-left: 1px solid gray;box-sizing: border-box;top: 0;bottom: 0;left: 50%;z-index: -1;}#sk-container-id-1 div.sk-parallel-item {display: flex;flex-direction: column;z-index: 1;position: relative;background-color: white;}#sk-container-id-1 div.sk-parallel-item:first-child::after {align-self: flex-end;width: 50%;}#sk-container-id-1 div.sk-parallel-item:last-child::after {align-self: flex-start;width: 50%;}#sk-container-id-1 div.sk-parallel-item:only-child::after {width: 0;}#sk-container-id-1 div.sk-dashed-wrapped {border: 1px dashed gray;margin: 0 0.4em 0.5em 0.4em;box-sizing: border-box;padding-bottom: 0.4em;background-color: white;}#sk-container-id-1 div.sk-label label {font-family: monospace;font-weight: bold;display: inline-block;line-height: 1.2em;}#sk-container-id-1 div.sk-label-container {text-align: center;}#sk-container-id-1 div.sk-container {/* jupyter's `normalize.less` sets `[hidden] { display: none; }` but bootstrap.min.css set `[hidden] { display: none !important; }` so we also need the `!important` here to be able to override the default hidden behavior on the sphinx rendered scikit-learn.org. See: https://github.com/scikit-learn/scikit-learn/issues/21755 */display: inline-block !important;position: relative;}#sk-container-id-1 div.sk-text-repr-fallback {display: none;}</style><div id=\"sk-container-id-1\" class=\"sk-top-container\"><div class=\"sk-text-repr-fallback\"><pre>VotingClassifier(estimators=[(&#x27;rf&#x27;, RandomForestClassifier(random_state=42)),\n",
       "                             (&#x27;lr&#x27;,\n",
       "                              LogisticRegression(max_iter=1000,\n",
       "                                                 random_state=42)),\n",
       "                             (&#x27;svc&#x27;, SVC(probability=True, random_state=42))],\n",
       "                 voting=&#x27;soft&#x27;)</pre><b>In a Jupyter environment, please rerun this cell to show the HTML representation or trust the notebook. <br />On GitHub, the HTML representation is unable to render, please try loading this page with nbviewer.org.</b></div><div class=\"sk-container\" hidden><div class=\"sk-item sk-dashed-wrapped\"><div class=\"sk-label-container\"><div class=\"sk-label sk-toggleable\"><input class=\"sk-toggleable__control sk-hidden--visually\" id=\"sk-estimator-id-1\" type=\"checkbox\" ><label for=\"sk-estimator-id-1\" class=\"sk-toggleable__label sk-toggleable__label-arrow\">VotingClassifier</label><div class=\"sk-toggleable__content\"><pre>VotingClassifier(estimators=[(&#x27;rf&#x27;, RandomForestClassifier(random_state=42)),\n",
       "                             (&#x27;lr&#x27;,\n",
       "                              LogisticRegression(max_iter=1000,\n",
       "                                                 random_state=42)),\n",
       "                             (&#x27;svc&#x27;, SVC(probability=True, random_state=42))],\n",
       "                 voting=&#x27;soft&#x27;)</pre></div></div></div><div class=\"sk-parallel\"><div class=\"sk-parallel-item\"><div class=\"sk-item\"><div class=\"sk-label-container\"><div class=\"sk-label sk-toggleable\"><label>rf</label></div></div><div class=\"sk-serial\"><div class=\"sk-item\"><div class=\"sk-estimator sk-toggleable\"><input class=\"sk-toggleable__control sk-hidden--visually\" id=\"sk-estimator-id-2\" type=\"checkbox\" ><label for=\"sk-estimator-id-2\" class=\"sk-toggleable__label sk-toggleable__label-arrow\">RandomForestClassifier</label><div class=\"sk-toggleable__content\"><pre>RandomForestClassifier(random_state=42)</pre></div></div></div></div></div></div><div class=\"sk-parallel-item\"><div class=\"sk-item\"><div class=\"sk-label-container\"><div class=\"sk-label sk-toggleable\"><label>lr</label></div></div><div class=\"sk-serial\"><div class=\"sk-item\"><div class=\"sk-estimator sk-toggleable\"><input class=\"sk-toggleable__control sk-hidden--visually\" id=\"sk-estimator-id-3\" type=\"checkbox\" ><label for=\"sk-estimator-id-3\" class=\"sk-toggleable__label sk-toggleable__label-arrow\">LogisticRegression</label><div class=\"sk-toggleable__content\"><pre>LogisticRegression(max_iter=1000, random_state=42)</pre></div></div></div></div></div></div><div class=\"sk-parallel-item\"><div class=\"sk-item\"><div class=\"sk-label-container\"><div class=\"sk-label sk-toggleable\"><label>svc</label></div></div><div class=\"sk-serial\"><div class=\"sk-item\"><div class=\"sk-estimator sk-toggleable\"><input class=\"sk-toggleable__control sk-hidden--visually\" id=\"sk-estimator-id-4\" type=\"checkbox\" ><label for=\"sk-estimator-id-4\" class=\"sk-toggleable__label sk-toggleable__label-arrow\">SVC</label><div class=\"sk-toggleable__content\"><pre>SVC(probability=True, random_state=42)</pre></div></div></div></div></div></div></div></div></div></div>"
      ],
      "text/plain": [
       "VotingClassifier(estimators=[('rf', RandomForestClassifier(random_state=42)),\n",
       "                             ('lr',\n",
       "                              LogisticRegression(max_iter=1000,\n",
       "                                                 random_state=42)),\n",
       "                             ('svc', SVC(probability=True, random_state=42))],\n",
       "                 voting='soft')"
      ]
     },
     "execution_count": 12,
     "metadata": {},
     "output_type": "execute_result"
    }
   ],
   "source": [
    "# Create Voting Classifier\n",
    "voting_clf = VotingClassifier(estimators=[\n",
    "    ('rf', rf_clf),\n",
    "    ('lr', lr_clf),\n",
    "    ('svc', svc_clf)\n",
    "], voting='soft') \n",
    "\n",
    "# Train the Voting Classifier\n",
    "voting_clf.fit(X_train_prosessed, y_train)"
   ]
  },
  {
   "cell_type": "code",
   "execution_count": 13,
   "id": "189f9493",
   "metadata": {
    "execution": {
     "iopub.execute_input": "2025-01-08T19:33:11.093178Z",
     "iopub.status.busy": "2025-01-08T19:33:11.092772Z",
     "iopub.status.idle": "2025-01-08T19:33:11.165687Z",
     "shell.execute_reply": "2025-01-08T19:33:11.161428Z"
    },
    "papermill": {
     "duration": 0.083229,
     "end_time": "2025-01-08T19:33:11.169855",
     "exception": false,
     "start_time": "2025-01-08T19:33:11.086626",
     "status": "completed"
    },
    "tags": []
   },
   "outputs": [
    {
     "name": "stdout",
     "output_type": "stream",
     "text": [
      "Validation Accuracy: 0.81\n"
     ]
    }
   ],
   "source": [
    "# Make predictions on validation set\n",
    "y_pred = voting_clf.predict(X_val)\n",
    "\n",
    "# Evaluate model performance\n",
    "accuracy = accuracy_score(y_val, y_pred)\n",
    "print(f\"Validation Accuracy: {accuracy:.2f}\")\n",
    "\n",
    "# Make predictions on test data\n",
    "\n",
    "y_pred_test = voting_clf.predict(test_processed)\n",
    "\n",
    "# Create submission file\n",
    "submission = pd.DataFrame({'PassengerId': test['PassengerId'], 'Survived': y_pred_test})\n",
    "submission.to_csv('submission.csv', index=False)"
   ]
  },
  {
   "cell_type": "code",
   "execution_count": 14,
   "id": "cb38b5e1",
   "metadata": {
    "execution": {
     "iopub.execute_input": "2025-01-08T19:33:11.199136Z",
     "iopub.status.busy": "2025-01-08T19:33:11.198388Z",
     "iopub.status.idle": "2025-01-08T19:33:30.104961Z",
     "shell.execute_reply": "2025-01-08T19:33:30.103137Z"
    },
    "papermill": {
     "duration": 18.926848,
     "end_time": "2025-01-08T19:33:30.109975",
     "exception": false,
     "start_time": "2025-01-08T19:33:11.183127",
     "status": "completed"
    },
    "tags": []
   },
   "outputs": [
    {
     "name": "stdout",
     "output_type": "stream",
     "text": [
      "Best Random Forest Params: {'max_depth': 5, 'min_samples_leaf': 2, 'min_samples_split': 5, 'n_estimators': 50}\n",
      "Ensemble Model Validation Accuracy: 80.45%\n"
     ]
    }
   ],
   "source": [
    "# Model Building and Evaluation\n",
    "\n",
    "# 1. Initialize models for comparison\n",
    "rf_model = RandomForestClassifier(n_estimators=100, random_state=42)\n",
    "logreg_model = LogisticRegression(random_state=42)\n",
    "svc_model = SVC(random_state=42)\n",
    "#xgb_model = xgb.XGBClassifier(random_state=42, use_label_encoder=False, eval_metric='logloss', enable_categorical=False) \n",
    "\n",
    "# 2. Hyperparameter tuning using GridSearchCV for Random Forest and XGBoost\n",
    "\n",
    "# Random Forest Grid Search\n",
    "rf_param_grid = {\n",
    "    'n_estimators': [50, 100, 200],\n",
    "    'max_depth': [3, 5, 10],\n",
    "    'min_samples_split': [2, 5],\n",
    "    'min_samples_leaf': [1, 2]\n",
    "}\n",
    "rf_grid_search = GridSearchCV(rf_model, rf_param_grid, cv=5, scoring='accuracy', n_jobs=-1)\n",
    "rf_grid_search.fit(X_train_prosessed, y_train)\n",
    "\n",
    "# XGBoost Grid Search\n",
    "'''xgb_param_grid = {\n",
    "    'learning_rate': [0.05, 0.1, 0.2],\n",
    "    'n_estimators': [100, 200],\n",
    "    'max_depth': [3, 5, 10],\n",
    "    'subsample': [0.7, 1.0],\n",
    "    'colsample_bytree': [0.7, 1.0]\n",
    "}\n",
    "xgb_grid_search = GridSearchCV(xgb_model, xgb_param_grid, cv=5, scoring='accuracy', n_jobs=-1)\n",
    "xgb_grid_search.fit(X_train_prosessed, y_train)\n",
    "'''\n",
    "\n",
    "# Best model and hyperparameters\n",
    "print(f\"Best Random Forest Params: {rf_grid_search.best_params_}\")\n",
    "#print(f\"Best XGBoost Params: {xgb_grid_search.best_params_}\")\n",
    "\n",
    "# 3. Final Model Evaluation\n",
    "\n",
    "# Use best models (can also combine them using Voting Classifier)\n",
    "best_rf_model = rf_grid_search.best_estimator_\n",
    "#best_xgb_model = xgb_grid_search.best_estimator_\n",
    "\n",
    "# Ensemble of models using Voting Classifier\n",
    "ensemble_model = VotingClassifier(estimators=[('rf', best_rf_model), \n",
    "                                              ('logreg', logreg_model), \n",
    "                                              ('svc', svc_model),\n",
    "                                              #('xgb', best_xgb_model)\n",
    "                                              ], voting='hard')\n",
    "\n",
    "# Train ensemble model\n",
    "ensemble_model.fit(X_train_prosessed, y_train)\n",
    "\n",
    "# Evaluate the ensemble model on validation set\n",
    "y_val_pred = ensemble_model.predict(X_val)\n",
    "val_accuracy = accuracy_score(y_val, y_val_pred)\n",
    "print(f\"Ensemble Model Validation Accuracy: {val_accuracy * 100:.2f}%\")\n",
    "\n",
    "# 4. Final Test Set Predictions\n",
    "\n",
    "# Predict on the test set\n",
    "y_pred_test2 = ensemble_model.predict(test_processed)"
   ]
  },
  {
   "cell_type": "code",
   "execution_count": null,
   "id": "dd8e931d",
   "metadata": {
    "papermill": {
     "duration": 0.012862,
     "end_time": "2025-01-08T19:33:30.137053",
     "exception": false,
     "start_time": "2025-01-08T19:33:30.124191",
     "status": "completed"
    },
    "tags": []
   },
   "outputs": [],
   "source": []
  }
 ],
 "metadata": {
  "kaggle": {
   "accelerator": "none",
   "dataSources": [
    {
     "datasetId": 6448293,
     "sourceId": 10405808,
     "sourceType": "datasetVersion"
    }
   ],
   "dockerImageVersionId": 30822,
   "isGpuEnabled": false,
   "isInternetEnabled": true,
   "language": "python",
   "sourceType": "notebook"
  },
  "kernelspec": {
   "display_name": "Python 3",
   "language": "python",
   "name": "python3"
  },
  "language_info": {
   "codemirror_mode": {
    "name": "ipython",
    "version": 3
   },
   "file_extension": ".py",
   "mimetype": "text/x-python",
   "name": "python",
   "nbconvert_exporter": "python",
   "pygments_lexer": "ipython3",
   "version": "3.10.12"
  },
  "papermill": {
   "default_parameters": {},
   "duration": 25.797488,
   "end_time": "2025-01-08T19:33:31.180226",
   "environment_variables": {},
   "exception": null,
   "input_path": "__notebook__.ipynb",
   "output_path": "__notebook__.ipynb",
   "parameters": {},
   "start_time": "2025-01-08T19:33:05.382738",
   "version": "2.6.0"
  }
 },
 "nbformat": 4,
 "nbformat_minor": 5
}
